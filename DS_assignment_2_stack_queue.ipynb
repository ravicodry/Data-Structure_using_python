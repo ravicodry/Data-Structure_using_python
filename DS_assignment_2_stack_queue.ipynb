{
 "cells": [
  {
   "cell_type": "markdown",
   "metadata": {},
   "source": [
    "# DS_Assignment_2"
   ]
  },
  {
   "cell_type": "markdown",
   "metadata": {},
   "source": [
    "# Ravi Choudhary\n",
    "# M20AIE88"
   ]
  },
  {
   "cell_type": "markdown",
   "metadata": {},
   "source": [
    "# Q-1"
   ]
  },
  {
   "cell_type": "code",
   "execution_count": 29,
   "metadata": {},
   "outputs": [
    {
     "name": "stdout",
     "output_type": "stream",
     "text": [
      "Number of students : 7\n",
      "size of the list : 10\n",
      "enter the roll number of students,those given the blood\n",
      "2\n",
      "1\n",
      "3\n",
      "5\n",
      "2\n",
      "4\n",
      "6\n",
      "3\n",
      "1\n",
      "7\n",
      "roll number of students As per the required order\n",
      "2\n",
      "2\n",
      "2\n",
      "2\n",
      "1\n",
      "1\n",
      "1\n",
      "1\n",
      "5\n",
      "5\n"
     ]
    }
   ],
   "source": [
    "A=[]\n",
    "N=int(input(\"Number of students : \")) # Number of students\n",
    "s1=int(input(\"size of the list : \")) # size of the list\n",
    "print(\"enter the roll number of students,those given the blood\")\n",
    "for i in range(s1):                         # take input for stack element\n",
    "    A.append(int(input()))\n",
    "print(\"roll number of students As per the required order\")\n",
    "q=[]\n",
    "i=0\n",
    "k=0\n",
    "q.append(A[i])\n",
    "while i<s1:\n",
    "    if q.count(q[k])==1:# This loop will count whether the element is repeated or not\n",
    "        print(q[k])\n",
    "        i=i+1\n",
    "        if i<s1:\n",
    "            q.append(A[i])\n",
    "    elif q.count(q[k])!=1:\n",
    "        k=k+1\n",
    "        if k==len(q):  # This condition is for ,if all the previos element is already printed than we will print the 0 for upcomming repeated element.\n",
    "            print('0')\n",
    "            i=i+1\n",
    "            if i<s1:\n",
    "                q.append(A[i])"
   ]
  },
  {
   "cell_type": "markdown",
   "metadata": {},
   "source": [
    "# Q-2"
   ]
  },
  {
   "cell_type": "code",
   "execution_count": 30,
   "metadata": {},
   "outputs": [
    {
     "name": "stdout",
     "output_type": "stream",
     "text": [
      "enter size of the stack : 5\n",
      "enter the stack element sequecnes N times\n",
      "5\n",
      "4\n",
      "3\n",
      "2\n",
      "1\n",
      "enter order sequence N times\n",
      "1\n",
      "2\n",
      "3\n",
      "4\n",
      "5\n",
      "deque([5, 4, 3, 2, 1])\n",
      "yes\n"
     ]
    }
   ],
   "source": [
    "from collections import deque\n",
    "# import deque module for implementing stack operartion in python\n",
    "s1 = deque() # stack define\n",
    "s2=[] # s2 and s3 stack were initialize for later operation\n",
    "s3=[]\n",
    "O=[]\n",
    "N=int(input(\"enter size of the stack : \")) # number of element in a stack\n",
    "print(\"enter the stack element sequecnes N times\")\n",
    "for i in range(N):                         # take input for stack element\n",
    "    s1.append(int(input()))\n",
    "print(\"enter order sequence N times\")\n",
    "for i in range(N):\n",
    "     O.append(int(input()))               # take input for sequence stack\n",
    "\n",
    "print(s1)  \n",
    "for j in range(N):\n",
    "         \n",
    "        if s1[-1]==O[j]:                 # compare last value of stack i.e top element with the order sequence, if found same then appedn same value in \n",
    "            s2.append(s1.pop())         #stack s2, esle in stack s3\n",
    "        else:\n",
    "            s3.append(s1.pop())\n",
    "\n",
    "for k in range(len(s3)):               # now append the s3 value into stack s2 stack\n",
    "    s2.append(s3.pop())\n",
    "\n",
    "if s2 == O:                         # compare the s2 stack with given order sequence stack,if found same than yes ,else No.\n",
    "    print(\"yes\")\n",
    "else:\n",
    "    print(\"no\")\n",
    "# print(s2)\n",
    "# print(O)"
   ]
  },
  {
   "cell_type": "code",
   "execution_count": null,
   "metadata": {},
   "outputs": [],
   "source": [
    "\n"
   ]
  },
  {
   "cell_type": "markdown",
   "metadata": {},
   "source": [
    "# Q-3"
   ]
  },
  {
   "cell_type": "code",
   "execution_count": 31,
   "metadata": {},
   "outputs": [
    {
     "name": "stdout",
     "output_type": "stream",
     "text": [
      "enter size of the stack : 5\n",
      "enter the stack element sequecnes N times\n",
      "5\n",
      "4\n",
      "3\n",
      "2\n",
      "1\n",
      "enter order sequence N times\n",
      "1\n",
      "3\n",
      "5\n",
      "2\n",
      "4\n",
      "[1, 3, 5, 2, 4]\n",
      "yes\n"
     ]
    }
   ],
   "source": [
    "from collections import deque\n",
    "s1 = deque() # stack define\n",
    "O=[]\n",
    "N=int(input(\"enter size of the stack : \")) # number of element in a stack\n",
    "print(\"enter the stack element sequecnes N times\")\n",
    "for i in range(N):                         # take input for stack element\n",
    "    s1.append(int(input()))\n",
    "print(\"enter order sequence N times\")\n",
    "for i in range(N):\n",
    "     O.append(int(input()))               # take input for sequence stack\n",
    "\n",
    "s2=[]\n",
    "delay=[]    # create to store delay element\n",
    "count=0\n",
    "for i in range(N):\n",
    "    \n",
    "        if s1[-1]==O[count]:\n",
    "            s2.append(s1.pop())\n",
    "            count=count+1\n",
    "        else:\n",
    "            delay.append(s1.pop())\n",
    "for i in range(len(delay)):\n",
    "    \n",
    "    s2.append(delay[i])\n",
    "print(s2)\n",
    "if s2==O:\n",
    "    print(\"yes\")\n",
    "else:\n",
    "    print(\"no\")"
   ]
  },
  {
   "cell_type": "markdown",
   "metadata": {},
   "source": [
    "# Q-4"
   ]
  },
  {
   "cell_type": "code",
   "execution_count": 5,
   "metadata": {},
   "outputs": [
    {
     "name": "stdout",
     "output_type": "stream",
     "text": [
      "enter size of the array : 10\n",
      "enter the array element sequecnes N times\n",
      "2\n",
      "1\n",
      "3\n",
      "5\n",
      "2\n",
      "4\n",
      "6\n",
      "3\n",
      "1\n",
      "7\n",
      "enter order sequence N times\n",
      "3\n",
      "3\n",
      "5\n",
      "6\n",
      "4\n",
      "6\n",
      "7\n",
      "7\n",
      "7\n",
      "-1\n"
     ]
    }
   ],
   "source": [
    "s1=[]# create list \n",
    "N=int(input(\"enter size of the array : \")) # number of element in a array\n",
    "print(\"enter the array element sequences N times\")\n",
    "for i in range(N):                         # take input for array element\n",
    "    s1.append(int(input()))\n",
    "print(\"required range of values\")\n",
    "i=0\n",
    "k=i+1 # k intialize to be one index ahead than i\n",
    "while(i<N):\n",
    "   \n",
    "    if k<N:\n",
    "        if s1[k]>s1[i]:# we will continue to compare the right side larger elemet than the left element untill we find the right value\n",
    "            print(s1[k])\n",
    "            i+=1\n",
    "            k=i+1\n",
    "        \n",
    "        else:\n",
    "            k+=1 # if value will not find on right side element than we contionosly iterate the process \n",
    "    elif k==N:  # this condition is for the 'K elelement when it reaches to end elemt of array s1 but not find anything greater'\n",
    "        print(-1)\n",
    "        i+=1\n",
    "        k=i+1"
   ]
  },
  {
   "cell_type": "code",
   "execution_count": null,
   "metadata": {},
   "outputs": [],
   "source": []
  }
 ],
 "metadata": {
  "kernelspec": {
   "display_name": "Python 3",
   "language": "python",
   "name": "python3"
  },
  "language_info": {
   "codemirror_mode": {
    "name": "ipython",
    "version": 3
   },
   "file_extension": ".py",
   "mimetype": "text/x-python",
   "name": "python",
   "nbconvert_exporter": "python",
   "pygments_lexer": "ipython3",
   "version": "3.7.3"
  }
 },
 "nbformat": 4,
 "nbformat_minor": 2
}
